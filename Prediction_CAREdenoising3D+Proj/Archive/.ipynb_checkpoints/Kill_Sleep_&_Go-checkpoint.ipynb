{
 "cells": [
  {
   "cell_type": "code",
   "execution_count": null,
   "metadata": {},
   "outputs": [],
   "source": [
    "# Kill kernel in case of \"sleep and go\" \n",
    "import os\n",
    "\n",
    "PID_number = os.getpid()\n",
    "os._exit(PID_number)\n",
    "#or \n",
    "#PID_number = os.getpid()\n",
    "#cmd = 'kill {}'.format(PID_number) \n",
    "#os.system(cmd)\n",
    "#or\n",
    "#cmd = 'jupyter notebook stop 8888' "
   ]
  },
  {
   "cell_type": "code",
   "execution_count": 1,
   "metadata": {},
   "outputs": [],
   "source": [
    "# import json\n",
    "# import posixpath\n",
    "# import subprocess\n",
    "# import urllib.request as urllib2\n",
    "\n",
    "# # def get_running_notebooks(host, port):\n",
    "# #     \"\"\"Get kernel ids and paths of the running notebooks.\n",
    "\n",
    "# #     Args:\n",
    "# #         host: host at which the notebook server is listening. E.g. 'localhost'.\n",
    "# #         port: port at which the notebook server is listening. E.g. 8888.\n",
    "# #         username: name of the user who runs the notebooks.\n",
    "\n",
    "# #     Returns:\n",
    "# #         list of dicts {kernel_id: notebook kernel id, path: path to notebook file}.\n",
    "# #     \"\"\"\n",
    "#     # find which kernel corresponds to which notebook\n",
    "#     # by querying the notebook server api for sessions\n",
    "    \n",
    "\n",
    "# host = 'proxyp'\n",
    "# port = 3128  \n",
    "    \n",
    "# sessions_url = posixpath.join('http://%s:%d' % (host, port), 'api', 'sessions')\n",
    "# response = urllib2.urlopen(sessions_url).read()\n",
    "# res = json.loads(response)\n",
    "# notebooks = [{'kernel_id': notebook['kernel']['id'],\n",
    "#                   'path': notebook['notebook']['path']} for notebook in res]\n",
    "# print(notebooks)"
   ]
  },
  {
   "cell_type": "code",
   "execution_count": null,
   "metadata": {},
   "outputs": [],
   "source": []
  }
 ],
 "metadata": {
  "kernelspec": {
   "display_name": "Python 3",
   "language": "python",
   "name": "python3"
  },
  "language_info": {
   "codemirror_mode": {
    "name": "ipython",
    "version": 3
   },
   "file_extension": ".py",
   "mimetype": "text/x-python",
   "name": "python",
   "nbconvert_exporter": "python",
   "pygments_lexer": "ipython3",
   "version": "3.6.10"
  }
 },
 "nbformat": 4,
 "nbformat_minor": 4
}
