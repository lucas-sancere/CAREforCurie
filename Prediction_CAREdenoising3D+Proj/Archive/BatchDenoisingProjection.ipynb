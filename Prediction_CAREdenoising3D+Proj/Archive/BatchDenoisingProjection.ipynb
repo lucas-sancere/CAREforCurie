{
 "cells": [
  {
   "cell_type": "code",
   "execution_count": 3,
   "metadata": {},
   "outputs": [
    {
     "name": "stderr",
     "output_type": "stream",
     "text": [
      "Using TensorFlow backend.\n"
     ]
    }
   ],
   "source": [
    "\n",
    "from __future__ import print_function, unicode_literals, absolute_import, division\n",
    "import numpy as np\n",
    "import matplotlib.pyplot as plt\n",
    "%matplotlib inline\n",
    "%config InlineBackend.figure_format = 'retina'\n",
    "import os\n",
    "import glob\n",
    "from csbdeep.utils.tf import limit_gpu_memory\n",
    "\n",
    "from tifffile import imread\n",
    "from csbdeep.utils import Path, download_and_extract_zip_file, plot_some\n",
    "from csbdeep.io import save_tiff_imagej_compatible\n",
    "from csbdeep.models import ProjectionCARE\n"
   ]
  },
  {
   "cell_type": "code",
   "execution_count": 4,
   "metadata": {},
   "outputs": [],
   "source": [
    "basedirLow = '/data/u934/service_imagerie/v_kapoor/Fl4-2-Var/ProjectionTest/'\n",
    "basedirResults = '/data/u934/service_imagerie/v_kapoor/Fl4-2-Var/ProjectionTest/ProjectionResults/'\n",
    "ModelName = 'IlastikDrosophilaDenoisingProjection'\n",
    "BaseDir = '/data/u934/service_imagerie/v_kapoor/CurieDeepLearningModels/'"
   ]
  },
  {
   "cell_type": "code",
   "execution_count": 5,
   "metadata": {},
   "outputs": [
    {
     "name": "stdout",
     "output_type": "stream",
     "text": [
      "Loading network weights from 'weights_best.h5'.\n"
     ]
    }
   ],
   "source": [
    "model = ProjectionCARE(config = None, name = ModelName, basedir = BaseDir)"
   ]
  },
  {
   "cell_type": "code",
   "execution_count": 6,
   "metadata": {},
   "outputs": [
    {
     "name": "stdout",
     "output_type": "stream",
     "text": [
      "(26, 2048, 2048)\n",
      "(26, 2048, 2048)\n",
      "CPU times: user 138 ms, sys: 367 ms, total: 504 ms\n",
      "Wall time: 483 ms\n"
     ]
    }
   ],
   "source": [
    "%%time\n",
    "\n",
    "Raw_path = os.path.join(basedirLow, '*tif')\n",
    "Path(basedirResults).mkdir(exist_ok = True)\n",
    "axes = 'ZYX'\n",
    "filesRaw = glob.glob(Raw_path)\n",
    "filesRaw.sort\n",
    "for fname in filesRaw:\n",
    "        x = imread(fname)\n",
    "        print(x.shape)\n",
    "        #print('Saving file' +  basedirResults + '%s_' + os.path.basename(fname))\n",
    "        #restored = model.predict(x, axes, n_tiles = (1, 8, 16)) \n",
    "        #axes_restored = axes.replace(model.proj_params.axis,'')\n",
    "        #save_tiff_imagej_compatible((basedirResults + '%s_' + os.path.basename(fname)) % model.name, restored, axes_restored)"
   ]
  },
  {
   "cell_type": "code",
   "execution_count": null,
   "metadata": {},
   "outputs": [],
   "source": []
  }
 ],
 "metadata": {
  "kernelspec": {
   "display_name": "Python 3",
   "language": "python",
   "name": "python3"
  },
  "language_info": {
   "codemirror_mode": {
    "name": "ipython",
    "version": 3
   },
   "file_extension": ".py",
   "mimetype": "text/x-python",
   "name": "python",
   "nbconvert_exporter": "python",
   "pygments_lexer": "ipython3",
   "version": "3.6.10"
  }
 },
 "nbformat": 4,
 "nbformat_minor": 4
}
