{
 "cells": [
  {
   "cell_type": "markdown",
   "metadata": {},
   "source": [
    "**Only Folder trigger**"
   ]
  },
  {
   "cell_type": "code",
   "execution_count": null,
   "metadata": {},
   "outputs": [],
   "source": [
    "import os\n",
    "import time\n",
    "\n",
    "TriggerName = '/home/sancere/NextonDisk_1/TimeTrigger/TT1'\n",
    "while os.path.exists(TriggerName) == False :\n",
    "    time.sleep(60*5)"
   ]
  },
  {
   "cell_type": "markdown",
   "metadata": {},
   "source": [
    "**Folder trigger and time trigger**"
   ]
  },
  {
   "cell_type": "code",
   "execution_count": 1,
   "metadata": {},
   "outputs": [],
   "source": [
    "import os\n",
    "import time\n",
    "\n",
    "TriggerName = '/home/sancere/NextonDisk_1/TimeTrigger/TT3'\n",
    "TimeCount = 0\n",
    "TimeThreshold = 3600*48\n",
    "while os.path.exists(TriggerName) == False or TimeCount > TimeThreshold :\n",
    "    time.sleep(60*5)\n",
    "    TimeCount = TimeCount + 60*5"
   ]
  }
 ],
 "metadata": {
  "kernelspec": {
   "display_name": "Python 3",
   "language": "python",
   "name": "python3"
  },
  "language_info": {
   "codemirror_mode": {
    "name": "ipython",
    "version": 3
   },
   "file_extension": ".py",
   "mimetype": "text/x-python",
   "name": "python",
   "nbconvert_exporter": "python",
   "pygments_lexer": "ipython3",
   "version": "3.6.10"
  }
 },
 "nbformat": 4,
 "nbformat_minor": 4
}
