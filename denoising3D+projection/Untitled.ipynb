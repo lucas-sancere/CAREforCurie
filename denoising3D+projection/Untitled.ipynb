{
 "cells": [
  {
   "cell_type": "code",
   "execution_count": 1,
   "metadata": {},
   "outputs": [],
   "source": [
    "## CARE_DenProj_version_0_1_LS.py\n",
    "\n",
    "#!/usr/bin/env python\n",
    "# coding: utf-8\n",
    "\n",
    "\n",
    "from __future__ import print_function, unicode_literals, absolute_import, division\n",
    "\n",
    "# In[0]:\n",
    "\n",
    "import os\n",
    "import time\n",
    "\n",
    "TriggerName = '/home/sancere/NextonDisk_1/TimeTrigger/TTCAREMFGHJK'\n",
    "TimeCount = 0\n",
    "TimeThreshold = 3600*0\n",
    "while os.path.exists(TriggerName) == False and TimeCount < TimeThreshold :\n",
    "   time.sleep(60*5)\n",
    "   TimeCount = TimeCount + 60*5\n",
    "\n",
    "\n",
    "\n",
    "# In[1]:\n",
    "\n",
    "import sys\n",
    "sys.path.append('/home/sancere/anaconda3/envs/tensorflowGPU/lib/python3.6/site-packages/')\n",
    "\n",
    "import csbdeep \n",
    "\n",
    "import numpy as np\n",
    "import os\n",
    "import glob\n",
    "\n",
    "from tifffile import imread\n",
    "from csbdeep.utils import Path, download_and_extract_zip_file, plot_some\n",
    "from csbdeep.io import save_tiff_imagej_compatible\n",
    "from csbdeep.models import CARE, ProjectionCARE\n",
    "from helpers import save_8bit_tiff_imagej_compatible\n",
    "\n",
    "try:\n",
    "    from pathlib import Path\n",
    "    Path().expanduser()\n",
    "except (ImportError, AttributeError):\n",
    "        from pathlib2 import Path\n",
    "\n",
    "try:\n",
    "        import tempfile\n",
    "        tempfile.TemporaryDirectory\n",
    "except (ImportError, AttributeError):\n",
    "       from backports import tempfile    \n",
    "        \n",
    "from skimage import exposure\n",
    "\n",
    "import time\n"
   ]
  },
  {
   "cell_type": "code",
   "execution_count": 2,
   "metadata": {},
   "outputs": [
    {
     "name": "stdout",
     "output_type": "stream",
     "text": [
      "/run/user/1000/gvfs/smb-share:server=isiserver.curie.net,share=u934/equipe_bellaiche/l_sancere/Tests_DL_Models/testCodes_On_Movies/210514_GC3A_optoGal_mov1_w2CSU-QUAD-561_s2_t85.TIF\n",
      "/run/user/1000/gvfs/smb-share:server=isiserver.curie.net,share=u934/equipe_bellaiche/l_sancere/Tests_DL_Models/testCodes_On_Movies/210514_GC3A_optoGal_mov1_w2CSU-QUAD-561_s2_t87.TIF\n",
      "/run/user/1000/gvfs/smb-share:server=isiserver.curie.net,share=u934/equipe_bellaiche/l_sancere/Tests_DL_Models/testCodes_On_Movies/210514_GC3A_optoGal_mov1_w2CSU-QUAD-561_s2_t86.TIF\n",
      "/run/user/1000/gvfs/smb-share:server=isiserver.curie.net,share=u934/equipe_bellaiche/l_sancere/Tests_DL_Models/testCodes_On_Movies/210514_GC3A_optoGal_mov1_w2CSU-QUAD-561_s2_t82.TIF\n",
      "/run/user/1000/gvfs/smb-share:server=isiserver.curie.net,share=u934/equipe_bellaiche/l_sancere/Tests_DL_Models/testCodes_On_Movies/210514_GC3A_optoGal_mov1_w2CSU-QUAD-561_s2_t84.TIF\n",
      "/run/user/1000/gvfs/smb-share:server=isiserver.curie.net,share=u934/equipe_bellaiche/l_sancere/Tests_DL_Models/testCodes_On_Movies/210514_GC3A_optoGal_mov1_w2CSU-QUAD-561_s2_t88.TIF\n",
      "/run/user/1000/gvfs/smb-share:server=isiserver.curie.net,share=u934/equipe_bellaiche/l_sancere/Tests_DL_Models/testCodes_On_Movies/210514_GC3A_optoGal_mov1_w2CSU-QUAD-561_s2_t83.TIF\n"
     ]
    }
   ],
   "source": [
    "# **Movie 1**\n",
    "\n",
    "# In[2]:\n",
    "\n",
    "\n",
    "basedir='/run/user/1000/gvfs/smb-share:server=isiserver.curie.net,share=u934/equipe_bellaiche/l_sancere/Tests_DL_Models/testCodes_On_Movies' \n",
    "\n",
    "basedirTest= basedir + '/Test'\n",
    "basedirTestExtended= basedirTest + '/Test'\n",
    "\n",
    "Path(basedirTest).mkdir(exist_ok = True)\n",
    "Raw_path = os.path.join(basedir, '*TIF') #tif or TIF be careful\n",
    "\n",
    "axes = 'ZYX'  #projection axes : 'YX'\n",
    "\n",
    "filesRaw = glob.glob(Raw_path)\n",
    "\n",
    "\n",
    "# In[6]:\n",
    "\n",
    "\n",
    "for fname in filesRaw:\n",
    "       if  os.path.exists(fname) == True :\n",
    "            if  os.path.exists(basedirTestExtended + os.path.basename(fname)) == False :\n",
    "                print(fname)\n",
    "                y = imread(fname)\n",
    "                y = np.delete(y,np.s_[:9],axis=0)\n",
    "                save_tiff_imagej_compatible((basedirTest + '/' + os.path.basename(fname)), y, axes)\n",
    "        \n",
    "\n",
    "\n",
    "\n",
    "\n"
   ]
  },
  {
   "cell_type": "code",
   "execution_count": null,
   "metadata": {},
   "outputs": [],
   "source": []
  }
 ],
 "metadata": {
  "kernelspec": {
   "display_name": "Python 3",
   "language": "python",
   "name": "python3"
  },
  "language_info": {
   "codemirror_mode": {
    "name": "ipython",
    "version": 3
   },
   "file_extension": ".py",
   "mimetype": "text/x-python",
   "name": "python",
   "nbconvert_exporter": "python",
   "pygments_lexer": "ipython3",
   "version": "3.6.10"
  }
 },
 "nbformat": 4,
 "nbformat_minor": 4
}
