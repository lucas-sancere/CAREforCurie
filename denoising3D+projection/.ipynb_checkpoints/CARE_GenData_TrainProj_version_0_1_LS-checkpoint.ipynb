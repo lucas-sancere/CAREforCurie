{
 "cells": [
  {
   "cell_type": "code",
   "execution_count": 1,
   "metadata": {},
   "outputs": [
    {
     "name": "stderr",
     "output_type": "stream",
     "text": [
      "Using TensorFlow backend.\n"
     ]
    }
   ],
   "source": [
    "from __future__ import print_function, unicode_literals, absolute_import, division\n",
    "import sys\n",
    "sys.path.append(\"../HelperFunctions\")\n",
    "import numpy as np\n",
    "import matplotlib.pyplot as plt\n",
    "%matplotlib inline\n",
    "%config InlineBackend.figure_format = 'retina'\n",
    "#import cv2\n",
    "from tifffile import imread\n",
    "from csbdeep.utils import download_and_extract_zip_file, plot_some\n",
    "from csbdeep.data import RawData, create_patches_reduced_target\n",
    "from selectrawdata import SelectRawData"
   ]
  },
  {
   "cell_type": "code",
   "execution_count": 2,
   "metadata": {},
   "outputs": [],
   "source": [
    "\n",
    "raw_data = SelectRawData.Shuffle_from_folder(\n",
    "    basepath    = '/run/user/1000/gvfs/smb-share:server=isiserver.curie.net,share=u934/equipe_bellaiche/l_sancere/Training_Data_Sets/Training_CARE_projection/MariaTraining_40x_bin2_Rfp/',\n",
    "    source_dirs = ['Low','Restored'],\n",
    "    target_dir  = 'GT',\n",
    "    axes        = 'ZYX',\n",
    "    pattern = '*'\n",
    "    \n",
    ")"
   ]
  },
  {
   "cell_type": "code",
   "execution_count": null,
   "metadata": {},
   "outputs": [
    {
     "name": "stdout",
     "output_type": "stream",
     "text": [
      "==================================================================\n",
      " 1466 raw images x    1 transformations   =  1466 images\n",
      " 1466 images     x   12 patches per image = 17592 patches in total\n",
      "==================================================================\n",
      "Input data:\n",
      "/run/user/1000/gvfs/smb-share:server=isiserver.curie.net,share=u934/equipe_bellaiche/l_sancere/Training_Data_Sets/Training_CARE_projection/MariaTraining_40x_bin2_Rfp/: target='GT', sources=['Low', 'Restored'], axes='ZYX', pattern='*'\n",
      "==================================================================\n",
      "Transformations:\n",
      "1 x Broadcast target image to the shape of source\n",
      "==================================================================\n",
      "Patch size:\n",
      "17 x 128 x 128\n",
      "==================================================================\n"
     ]
    },
    {
     "name": "stderr",
     "output_type": "stream",
     "text": [
      " 30%|██▉       | 436/1466 [37:05<1:51:14,  6.48s/it]"
     ]
    }
   ],
   "source": [
    "\n",
    "patch_size = (17,128,128) # Normally: None,128,128\n",
    "\n",
    "n_patches_per_image = 12\n",
    "\n",
    "X, Y, XY_axes = create_patches_reduced_target (\n",
    "    raw_data            = raw_data,\n",
    "    patch_size          = patch_size, #for bin1 it is None 128 128 and for bin2 it is None 64 64\n",
    "    n_patches_per_image = n_patches_per_image, #32 if patch size = (None, 64, 64)  \n",
    "    target_axes         = 'YX',\n",
    "    reduction_axes      = 'Z',\n",
    "    save_file           = '/run/media/sancere/DATA/Lucas_NextonCreated_npz/MariaTraining_projection_40x_bin2_Rfp.npz',\n",
    ")"
   ]
  },
  {
   "cell_type": "code",
   "execution_count": null,
   "metadata": {},
   "outputs": [],
   "source": [
    "ConfigNPZ = open(\"/run/media/sancere/DATA1/Lucas_NextonCreated_npz/Parameters_Npz/ConfigNPZ_WideNewFiber1_Training_CARE_40x_bin1.txt\", \"w+\") \n",
    "ConfigNPZ.write(\"patch_size = {} \\n n_patches_per_image = {}\".format(patch_size,n_patches_per_image))\n",
    "ConfigNPZ.close() "
   ]
  },
  {
   "cell_type": "code",
   "execution_count": null,
   "metadata": {},
   "outputs": [],
   "source": [
    "for i in range(2):\n",
    "    plt.figure(figsize=(16,4))\n",
    "    sl = slice(18*i, 18*(i+1)), 0\n",
    "    plot_some(X[sl],Y[sl],title_list=[np.arange(sl[0].start,sl[0].stop)])\n",
    "    plt.show()\n",
    "None;"
   ]
  },
  {
   "cell_type": "code",
   "execution_count": null,
   "metadata": {},
   "outputs": [],
   "source": [
    "from csbdeep.utils import Path\n",
    "\n",
    "TriggerName = '/home/sancere/NextonDisk_1/TimeTrigger/TTGenData2'\n",
    "Path(TriggerName).mkdir(exist_ok = True)"
   ]
  },
  {
   "cell_type": "code",
   "execution_count": null,
   "metadata": {},
   "outputs": [],
   "source": []
  }
 ],
 "metadata": {
  "kernelspec": {
   "display_name": "Python 3",
   "language": "python",
   "name": "python3"
  },
  "language_info": {
   "codemirror_mode": {
    "name": "ipython",
    "version": 3
   },
   "file_extension": ".py",
   "mimetype": "text/x-python",
   "name": "python",
   "nbconvert_exporter": "python",
   "pygments_lexer": "ipython3",
   "version": "3.6.10"
  }
 },
 "nbformat": 4,
 "nbformat_minor": 4
}
