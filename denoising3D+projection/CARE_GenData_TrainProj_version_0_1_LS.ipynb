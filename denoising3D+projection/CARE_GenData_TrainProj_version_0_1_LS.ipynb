{
 "cells": [
  {
   "cell_type": "code",
   "execution_count": 1,
   "metadata": {},
   "outputs": [
    {
     "name": "stderr",
     "output_type": "stream",
     "text": [
      "Using TensorFlow backend.\n"
     ]
    }
   ],
   "source": [
    "from __future__ import print_function, unicode_literals, absolute_import, division\n",
    "import sys\n",
    "sys.path.append(\"../HelperFunctions\")\n",
    "import numpy as np\n",
    "import matplotlib.pyplot as plt\n",
    "%matplotlib inline\n",
    "%config InlineBackend.figure_format = 'retina'\n",
    "import cv2\n",
    "from tifffile import imread\n",
    "from csbdeep.utils import download_and_extract_zip_file, plot_some\n",
    "from csbdeep.data import RawData, create_patches_reduced_target\n",
    "from selectrawdata import SelectRawData\n",
    "\n",
    "import time\n"
   ]
  },
  {
   "cell_type": "code",
   "execution_count": 2,
   "metadata": {},
   "outputs": [],
   "source": [
    "\n",
    "raw_data = SelectRawData.Shuffle_from_folder(\n",
    "    basepath    = '/run/user/1000/gvfs/smb-share:server=isiserver.curie.net,share=u934/equipe_bellaiche/l_sancere/Training_Data_Sets/Training_CARE_projection/SpinwideFRAP4_Training_CARE_40x_bin1/',\n",
    "    source_dirs = ['Low','Restored'],\n",
    "    target_dir  = 'GT',\n",
    "    axes        = 'ZYX',\n",
    "    pattern = '*'\n",
    "    \n",
    ")"
   ]
  },
  {
   "cell_type": "code",
   "execution_count": 3,
   "metadata": {},
   "outputs": [
    {
     "name": "stderr",
     "output_type": "stream",
     "text": [
      "Warning: will use at least 37296 MB (76.1%) of available memory.\n",
      "\n"
     ]
    },
    {
     "name": "stdout",
     "output_type": "stream",
     "text": [
      "==================================================================\n",
      " 3108 raw images x    1 transformations   =  3108 images\n",
      " 3108 images     x   16 patches per image = 49728 patches in total\n",
      "==================================================================\n",
      "Input data:\n",
      "/run/user/1000/gvfs/smb-share:server=isiserver.curie.net,share=u934/equipe_bellaiche/l_sancere/Training_Data_Sets/Training_CARE_projection/SpinwideFRAP4_Training_CARE_40x_bin1/: target='GT', sources=['Low', 'Restored'], axes='ZYX', pattern='*'\n",
      "==================================================================\n",
      "Transformations:\n",
      "1 x Broadcast target image to the shape of source\n",
      "==================================================================\n",
      "Patch size:\n",
      "24 x 64 x 64\n",
      "==================================================================\n"
     ]
    },
    {
     "name": "stderr",
     "output_type": "stream",
     "text": [
      "100%|██████████| 3108/3108 [14:53:41<00:00, 17.25s/it]  \n"
     ]
    },
    {
     "name": "stdout",
     "output_type": "stream",
     "text": [
      "Saving data to /run/media/sancere/DATA/Lucas_NextonCreated_npz/Training_CARE_projection_SpinwideFRAP_Bin1.npz.\n"
     ]
    }
   ],
   "source": [
    "\n",
    "X, Y, XY_axes = create_patches_reduced_target (\n",
    "    raw_data            = raw_data,\n",
    "    patch_size          = (None,64,64), #for bin1 it is None 64 64 and for bin2 it is None 32 32\n",
    "    n_patches_per_image = 32, #32 for bin1 \n",
    "    target_axes         = 'YX',\n",
    "    reduction_axes      = 'Z',\n",
    "    save_file           = '/run/media/sancere/DATA/Lucas_NextonCreated_npz/Training_CARE_projection_SpinwideFRAP_Bin1.npz',\n",
    ")"
   ]
  },
  {
   "cell_type": "code",
   "execution_count": 4,
   "metadata": {},
   "outputs": [
    {
     "ename": "SyntaxError",
     "evalue": "invalid syntax (<ipython-input-4-b21fd47e4baa>, line 3)",
     "output_type": "error",
     "traceback": [
      "\u001b[0;36m  File \u001b[0;32m\"<ipython-input-4-b21fd47e4baa>\"\u001b[0;36m, line \u001b[0;32m3\u001b[0m\n\u001b[0;31m    sl = slice(18*i, 18*(i+1)), 0<<\u001b[0m\n\u001b[0m                                   ^\u001b[0m\n\u001b[0;31mSyntaxError\u001b[0m\u001b[0;31m:\u001b[0m invalid syntax\n"
     ]
    }
   ],
   "source": [
    "for i in range(2):\n",
    "    plt.figure(figsize=(16,4))\n",
    "    sl = slice(18*i, 18*(i+1)), 0\n",
    "    plot_some(X[sl],Y[sl],title_list=[np.arange(sl[0].start,sl[0].stop)])\n",
    "    plt.show()\n",
    "None;"
   ]
  },
  {
   "cell_type": "code",
   "execution_count": null,
   "metadata": {},
   "outputs": [],
   "source": []
  }
 ],
 "metadata": {
  "kernelspec": {
   "display_name": "Python 3",
   "language": "python",
   "name": "python3"
  },
  "language_info": {
   "codemirror_mode": {
    "name": "ipython",
    "version": 3
   },
   "file_extension": ".py",
   "mimetype": "text/x-python",
   "name": "python",
   "nbconvert_exporter": "python",
   "pygments_lexer": "ipython3",
   "version": "3.6.10"
  }
 },
 "nbformat": 4,
 "nbformat_minor": 4
}
